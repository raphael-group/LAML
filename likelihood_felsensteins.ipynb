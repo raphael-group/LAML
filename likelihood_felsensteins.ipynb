{
 "cells": [
  {
   "cell_type": "code",
   "execution_count": 450,
   "id": "be9d49b8",
   "metadata": {},
   "outputs": [],
   "source": [
    "import numpy as np\n",
    "\n",
    "# test data\n",
    "t_A = '[&R] ((1:0.96,3:0.96):0.14,2:1.10,4:1.10);' # rooted\n",
    "t_B = '[&R] (1:1.167,2:1.167,3:1.167:4:1.167);'\n",
    "\n",
    "t_C = '[&R] ((1:0.5,2:0.5):0.60,(3:0.5,4:0.5):0.60);' # no branches\n",
    "\n",
    "# species by 3-site matrix\n",
    "msa = np.array([[1,0,2], # species 1\n",
    "                 [1,0,0], # species 2\n",
    "                 [0,1,2], # species 3\n",
    "                 [0,1,0]] # species 4\n",
    "               )\n"
   ]
  },
  {
   "cell_type": "code",
   "execution_count": 451,
   "id": "87fc5da5",
   "metadata": {},
   "outputs": [],
   "source": [
    "# https://bio.libretexts.org/Bookshelves/Evolutionary_Developmental_Biology/Phylogenetic_Comparative_Methods_(Harmon)/08%3A_Fitting_Models_of_Discrete_Character_Evolution/8.07%3A_Appendix_-_Felsenstein's_Pruning_Algorithm\n",
    "# t = '((((1:1.0, 2:1.0):0.5, 3:1.5):1.0,((4:0.5, 5:0.5):2.0):0.5), 6:2.5);'\n",
    "# msa = np.array([[0], [1], [0], [2], [2], [1]])\n"
   ]
  },
  {
   "cell_type": "code",
   "execution_count": 452,
   "id": "8b77c622",
   "metadata": {},
   "outputs": [],
   "source": [
    "\n",
    "numsites = len(msa[0])\n",
    "lambda_site = dict()\n",
    "\n",
    "for site in range(numsites):\n",
    "    lambda_site[site] = np.unique(msa.T[site])\n",
    "    \n",
    "    \n",
    "char_probs = dict()\n",
    "for site in range(numsites):\n",
    "    char_probs[site] = dict()\n",
    "    chars, counts = np.unique(msa.T[site], return_counts=True)\n",
    "    for i in range(len(chars)):\n",
    "        char_probs[site][chars[i]] = counts[i]/len(msa.T[site])"
   ]
  },
  {
   "cell_type": "code",
   "execution_count": 453,
   "id": "9b971972",
   "metadata": {},
   "outputs": [
    {
     "name": "stdout",
     "output_type": "stream",
     "text": [
      "site: 0\n",
      "{0: 0.5, 1: 0.5}\n",
      "site: 1\n",
      "{0: 0.5, 1: 0.5}\n",
      "site: 2\n",
      "{0: 0.5, 1: 0.5}\n"
     ]
    }
   ],
   "source": [
    "for site in range(numsites):\n",
    "    print(\"site:\", site)\n",
    "    print(char_probs[0])"
   ]
  },
  {
   "cell_type": "code",
   "execution_count": 454,
   "id": "e56ee213",
   "metadata": {},
   "outputs": [],
   "source": [
    "# nwkt.as_string(schema=\"newick\")\n",
    "# nwkt.as_ascii_plot()"
   ]
  },
  {
   "cell_type": "code",
   "execution_count": 455,
   "id": "cda19e39",
   "metadata": {},
   "outputs": [],
   "source": [
    "def get_branchlen(child_node):\n",
    "    # print(\"getting branch length\", child_node.edge_length)\n",
    "    if child_node.edge_length is None:\n",
    "        print(child_node.child_nodes())\n",
    "    return child_node.edge_length"
   ]
  },
  {
   "cell_type": "code",
   "execution_count": 456,
   "id": "15ac0e3e",
   "metadata": {},
   "outputs": [],
   "source": [
    "import math\n",
    "\n",
    "def prob_same(nodedict, node_likelihood, site, curr_node):\n",
    "    # print(\"prob_same\")\n",
    "    # prob of staying in 0 \n",
    "    all_child_prob = 1.0\n",
    "    # print(curr_node.child_nodes())\n",
    "    for c in curr_node.child_nodes():\n",
    "        # print(c)\n",
    "        # if c.is_internal():\n",
    "        #     print(\"c is internal\", c)\n",
    "        # prob_over_child_states\n",
    "        char_state_prob = 0.0\n",
    "        for alpha in nodedict[c][site]:\n",
    "        \n",
    "            # lambda_i = np.count_nonzero(msa.T[site])/len(msa.T[site])\n",
    "            # tp = transition[alpha][alpha]\n",
    "            \n",
    "            # print(\"PS: lambda_i\", lambda_i)\n",
    "            print(\"PS: get_branchlen(c)\", c, get_branchlen(c))\n",
    "            \n",
    "            tp = math.exp(get_branchlen(c)) # put lambda_i \n",
    "            # print(\"tp\", tp)\n",
    "            char_state_prob += tp * node_likelihood[c][site]\n",
    "            # print(\"char_state_prob\", char_state_prob)\n",
    "        all_child_prob *= char_state_prob\n",
    "    # print(\"all_child_prob\", all_child_prob)        \n",
    "    return all_child_prob\n",
    "\n",
    "def prob_change(nodedict, node_likelihood, site, curr_state, curr_node):\n",
    "    # print(\"prob_change\")\n",
    "    # prob of changing from 0 to alpha \n",
    "    all_child_prob = 1.0\n",
    "    # print(curr_node.child_nodes())\n",
    "    for c in curr_node.child_nodes():\n",
    "        # print(c)\n",
    "        # if c.is_internal():\n",
    "        #     print(\"c is internal\", c)\n",
    "        char_state_prob = 0.0\n",
    "        for alpha in nodedict[c][site]:\n",
    "            # lambda_i, total number of changes at site i\n",
    "            lambda_i = np.count_nonzero(msa.T[site])/len(msa.T[site])\n",
    "            # lambda_i_alpha, total number of changes to alpha at site i\n",
    "            lambda_i_alpha = np.count_nonzero(msa.T[site] == curr_state)/len(msa.T[site])\n",
    "            \n",
    "            tp = lambda_i_alpha/lambda_i * (1 - math.exp(-lambda_i * get_branchlen(c)))\n",
    "            # print(\"PC: ratio\", lambda_i_alpha/lambda_i)\n",
    "            # print(\"PC: tp\", tp)\n",
    "            # print(\"PC: node likelihood\", node_likelihood[c][site])\n",
    "            char_state_prob += tp * node_likelihood[c][site]\n",
    "            # print(\"char_state_prob\", char_state_prob)\n",
    "        all_child_prob *= char_state_prob\n",
    "    # print(\"PC: all_child_prob\", all_child_prob)\n",
    "    return all_child_prob\n"
   ]
  },
  {
   "cell_type": "code",
   "execution_count": 457,
   "id": "99015d14",
   "metadata": {},
   "outputs": [],
   "source": [
    "def likelihood_under_n(nodedict, node_likelihood, n, site):\n",
    "    # n is an internal node\n",
    "    # for node n, get children's possible states from nodedict\n",
    "    \n",
    "    child_states = set()\n",
    "        \n",
    "    if n not in nodedict:\n",
    "        nodedict[n] = dict()\n",
    "        nodedict[n][site] = dict()\n",
    "        \n",
    "    # identify all child states. \n",
    "    # this constrains n's possible states.\n",
    "    child_states = set()\n",
    "    for child in n.child_nodes():\n",
    "        # print(\"child\", child, child.is_leaf(), child.is_internal())\n",
    "        if child.is_leaf():\n",
    "            child_states.add(get_char(msa, child, site))\n",
    "        else:\n",
    "            for x in nodedict[child][site]:\n",
    "                child_states.add(x)\n",
    "    # print(\"child_states\", child_states)\n",
    "    possible_states = dict()\n",
    "    if len(child_states) == 1:\n",
    "        if 0 in child_states:\n",
    "            # probability 0 -> 0\n",
    "            possible_states[0] = prob_same(nodedict, node_likelihood, site, n) \n",
    "        else:\n",
    "            for c in child_states:\n",
    "                # probability c -> c != 0\n",
    "                possible_states[c] = 1.0 \n",
    "            # probability 0 -> c (alpha)\n",
    "            possible_states[0] = prob_change(nodedict, node_likelihood, site, 0, n)  \n",
    "    else:\n",
    "        # probability 0 -> 1 and 0 -> 2 or\n",
    "        # probability 0 -> 0 and 0 -> 1 WLOG\n",
    "        possible_states[0] = 1.0\n",
    "\n",
    "    for x in possible_states.keys():\n",
    "        # save into nodedict\n",
    "        nodedict[n][site][x] = possible_states[x]\n",
    "        # product over all possible states\n",
    "        node_likelihood[n][site] *= possible_states[x]\n",
    "    \n",
    "    return nodedict, node_likelihood"
   ]
  },
  {
   "cell_type": "code",
   "execution_count": 458,
   "id": "dead856c",
   "metadata": {},
   "outputs": [],
   "source": [
    "def get_char(msa, leaf_node, site):\n",
    "    # print(leaf_node)\n",
    "    return msa[int(leaf_node.taxon.__str__().replace(\"'\", \"\"))-1][site]"
   ]
  },
  {
   "cell_type": "code",
   "execution_count": 459,
   "id": "f929d65c",
   "metadata": {
    "scrolled": false
   },
   "outputs": [
    {
     "name": "stdout",
     "output_type": "stream",
     "text": [
      "((1:0.5,2:0.5):0.6,(3:0.5,4:0.5):0.6)\n",
      "PS: lambda_i 0.5\n",
      "PS: get_branchlen(c) <Node object at 0x7f8734e47650: 'None' (<Taxon 0x7f8734e47fd0 '1'>)> 0.5\n",
      "PS: lambda_i 0.5\n",
      "PS: get_branchlen(c) <Node object at 0x7f8734e47490: 'None' (<Taxon 0x7f8734e47a10 '2'>)> 0.5\n",
      "PS: lambda_i 0.5\n",
      "PS: get_branchlen(c) <Node object at 0x7f8734e47d50: 'None' (<Taxon 0x7f8734e47150 '3'>)> 0.5\n",
      "PS: lambda_i 0.5\n",
      "PS: get_branchlen(c) <Node object at 0x7f8734e47ed0: 'None' (<Taxon 0x7f8734e47610 '4'>)> 0.5\n",
      "PS: lambda_i 0.5\n",
      "PS: get_branchlen(c) <Node object at 0x7f8734e47f10: 'None' (None)> 0.6\n",
      "PS: lambda_i 0.5\n",
      "PS: get_branchlen(c) <Node object at 0x7f8734e47990: 'None' (None)> 0.6\n",
      "8.236339393882161e-09\n"
     ]
    }
   ],
   "source": [
    "import dendropy\n",
    "\n",
    "nwkt = dendropy.Tree.get(data=t_C, schema=\"newick\")\n",
    "print(nwkt)\n",
    "nodedict = dict() # maps node to possible states, with probabilities\n",
    "node_likelihood = dict() # maps node to likelihood of subtree under node\n",
    "\n",
    "for n in nwkt.postorder_node_iter():\n",
    "    # print(\"node:\", n)\n",
    "    if n.taxon is not None: # must be a leaf node, set up \n",
    "        nodedict[n] = dict()\n",
    "        node_likelihood[n] = dict()\n",
    "        for site in range(numsites):\n",
    "            char_state = get_char(msa, n, site)\n",
    "            nodedict[n][site] = dict()\n",
    "            nodedict[n][site][char_state] = 1.0\n",
    "            node_likelihood[n][site] = 1.0\n",
    "        \n",
    "    elif n.taxon is None: # must be an internal node\n",
    "        # print(\"Child Nodes:\", n.child_nodes())\n",
    "        for site in range(numsites):\n",
    "            # print(\"site:\", site)\n",
    "            if n not in nodedict:\n",
    "                nodedict[n] = dict()\n",
    "                node_likelihood[n] = dict()\n",
    "            \n",
    "            # print(\"PRE\")\n",
    "            # print(\"NodeDict:\", nodedict)\n",
    "            # print(\"NodeLikelihood:\", node_likelihood)\n",
    "            \n",
    "            nodedict[n][site] = dict()\n",
    "            node_likelihood[n][site] = 1.0\n",
    "            \n",
    "            nodedict, node_likelihood = likelihood_under_n(nodedict, node_likelihood, n, site)\n",
    "            \n",
    "            # print(\"POST\")\n",
    "            # print(\"NodeDict:\", nodedict)\n",
    "            # print(\"NodeLikelihood:\", node_likelihood[n])\n",
    "\n",
    "tree_likelihood = 1.0\n",
    "# print likelihood for the root\n",
    "for child in nwkt.seed_node.child_nodes():\n",
    "    for site in range(numsites):\n",
    "        for char in nodedict[child][site]:\n",
    "            # only have one child, add a r*, the q should also appear\n",
    "            # don't use the stationary at the root, instead we want to use the distance 1 - e^...\n",
    "            # initialize with some distance \n",
    "            \n",
    "            tree_likelihood *= char_probs[site][char] * node_likelihood[child][site]\n",
    "            \n",
    "print(tree_likelihood)\n",
    "\n"
   ]
  },
  {
   "cell_type": "code",
   "execution_count": 460,
   "id": "91a2d8e7",
   "metadata": {},
   "outputs": [],
   "source": [
    "t_A = 2.062468362106625e-05\n",
    "t_B = 0.001953125\n",
    "t_C = 8.236339393882161e-09"
   ]
  },
  {
   "cell_type": "code",
   "execution_count": 461,
   "id": "17ce8365",
   "metadata": {},
   "outputs": [
    {
     "data": {
      "text/plain": [
       "True"
      ]
     },
     "execution_count": 461,
     "metadata": {},
     "output_type": "execute_result"
    }
   ],
   "source": [
    "t_C < t_B"
   ]
  },
  {
   "cell_type": "code",
   "execution_count": 462,
   "id": "67dea943",
   "metadata": {},
   "outputs": [
    {
     "data": {
      "text/plain": [
       "True"
      ]
     },
     "execution_count": 462,
     "metadata": {},
     "output_type": "execute_result"
    }
   ],
   "source": [
    "t_A > t_C"
   ]
  },
  {
   "cell_type": "code",
   "execution_count": null,
   "id": "a2247ce2",
   "metadata": {},
   "outputs": [],
   "source": [
    "# ziheng yang - must always be less than f_max <= \n",
    "# as you increase the number of k, should converge, check paper... "
   ]
  },
  {
   "cell_type": "code",
   "execution_count": null,
   "id": "c41c2039",
   "metadata": {},
   "outputs": [],
   "source": [
    "# make this into a function \n",
    "def felsenstein(T, Q, msa): \n",
    "    # tree w/ branch lengths as input\n",
    "    # output a likelihood\n",
    "    ##\n",
    "    pass \n"
   ]
  }
 ],
 "metadata": {
  "kernelspec": {
   "display_name": "Python 3",
   "language": "python",
   "name": "python3"
  },
  "language_info": {
   "codemirror_mode": {
    "name": "ipython",
    "version": 3
   },
   "file_extension": ".py",
   "mimetype": "text/x-python",
   "name": "python",
   "nbconvert_exporter": "python",
   "pygments_lexer": "ipython3",
   "version": "3.7.10"
  }
 },
 "nbformat": 4,
 "nbformat_minor": 5
}
