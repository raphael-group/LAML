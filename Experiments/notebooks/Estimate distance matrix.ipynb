{
 "cells": [
  {
   "cell_type": "code",
   "execution_count": 4,
   "id": "1c90e797",
   "metadata": {},
   "outputs": [],
   "source": [
    "import sys\n",
    "sys.path.append(\"/Users/gillianchu/raphael/repos/problin/problin_libs\")\n",
    "from distance_based_lib import ML_pairwise_estimate"
   ]
  },
  {
   "cell_type": "code",
   "execution_count": 31,
   "id": "65e7b7ad",
   "metadata": {},
   "outputs": [],
   "source": [
    "# estimate the pairwise distance matrix for an example tree\n",
    "import dendropy\n",
    "import os, glob\n",
    "from dendropy.calculate import treecompare\n",
    "t = \"[&R] ((0:0.0360971597765934,1:3.339535381892265):0.0360971597765934,(2:0.0360971597765934,3:3.339535381892265):0.0360971597765934);\"\n",
    "true_tree = dendropy.Tree.get(data=t, schema=\"newick\")\n",
    "\n",
    "\n",
    "tree_dict = dict()\n",
    "pdm_dict = dict()\n",
    "nj_dict = dict()\n",
    "\n",
    "for k in (20, 30, 40, 50, 100, 200, 300, 400, 500, 1000, 5000):\n",
    "    outdir = \"/Users/gillianchu/raphael/repos/problin/results_estbl/m10_k{0}_estbl\".format(k)\n",
    "    for filename in glob.iglob(outdir+\"/*\"):\n",
    "        # print(filename)\n",
    "        est_tree = dendropy.Tree.get(path=filename, schema=\"newick\", taxon_namespace=true_tree.taxon_namespace)\n",
    "        pdm = est_tree.phylogenetic_distance_matrix()\n",
    "        if k not in tree_dict.keys():\n",
    "            tree_dict[k] = []\n",
    "            pdm_dict[k] = []\n",
    "            nj_dict[k] = []\n",
    "        tree_dict[k].append(est_tree)\n",
    "        pdm_dict[k].append(pdm)\n",
    "        nj_dict[k].append(pdm.nj_tree())"
   ]
  },
  {
   "cell_type": "code",
   "execution_count": 42,
   "id": "1cbf519b",
   "metadata": {},
   "outputs": [],
   "source": [
    "fn_dict = dict()\n",
    "fp_dict = dict()\n",
    "x = []\n",
    "y_fn = []\n",
    "y_fp = []\n",
    "for k in (20, 30, 40, 50, 100, 200, 300, 400, 500, 1000, 5000):\n",
    "    x.append(k)\n",
    "    for nj_tree in nj_dict[k]:\n",
    "        # false positive (found in nj_tree but not in true_tree)\n",
    "        # false negative (found in true_tree but not in nj_tree)\n",
    "        fp, fn = treecompare.false_positives_and_negatives(true_tree, nj_tree)\n",
    "        if k not in fp_dict.keys():\n",
    "            fp_dict[k] = []\n",
    "            fn_dict[k] = []\n",
    "        fp_dict[k].append(fp)\n",
    "        fn_dict[k].append(fn)\n",
    "    y_fp.append(np.mean(fp_dict[k]))\n",
    "    y_fn.append(np.mean(fn_dict[k]))"
   ]
  },
  {
   "cell_type": "code",
   "execution_count": 45,
   "id": "db027e89",
   "metadata": {},
   "outputs": [
    {
     "data": {
      "text/plain": [
       "Text(0, 0.5, 'False Positives in NJ Tree')"
      ]
     },
     "execution_count": 45,
     "metadata": {},
     "output_type": "execute_result"
    },
    {
     "data": {
      "image/png": "[encoded data removed]",
      "text/plain": [
       "<Figure size 432x288 with 1 Axes>"
      ]
     },
     "metadata": {
      "needs_background": "light"
     },
     "output_type": "display_data"
    }
   ],
   "source": [
    "import matplotlib.pyplot as plt\n",
    "\n",
    "k = 5000\n",
    "# for pair in pair_dict.keys():\n",
    "plt.title(\"Length of Sequence (k) vs FP in NJ Tree\".format(pair))\n",
    "plt.plot(x, y_fp)\n",
    "ax = plt.gca()\n",
    "plt.xlabel(\"k\")\n",
    "plt.ylabel(\"False Positives in NJ Tree\")\n",
    "# plt.savefig('/Users/gillianchu/raphael/repos/problin/results_estbl/plots/pair_{0}_{1}.jpg'.format(pair[0], pair[1]))\n",
    "# plt.show()"
   ]
  },
  {
   "cell_type": "code",
   "execution_count": 46,
   "id": "9a5cb0ea",
   "metadata": {},
   "outputs": [
    {
     "data": {
      "text/plain": [
       "Text(0, 0.5, 'False Negatives in NJ Tree')"
      ]
     },
     "execution_count": 46,
     "metadata": {},
     "output_type": "execute_result"
    },
    {
     "data": {
      "image/png": "[encoded data removed]",
      "text/plain": [
       "<Figure size 432x288 with 1 Axes>"
      ]
     },
     "metadata": {
      "needs_background": "light"
     },
     "output_type": "display_data"
    }
   ],
   "source": [
    "plt.title(\"Length of Sequence (k) vs FN in True Tree\".format(pair))\n",
    "plt.plot(x, y_fn)\n",
    "ax = plt.gca()\n",
    "plt.xlabel(\"k\")\n",
    "plt.ylabel(\"False Negatives in NJ Tree\")"
   ]
  },
  {
   "cell_type": "code",
   "execution_count": null,
   "id": "ccbe73ed",
   "metadata": {},
   "outputs": [],
   "source": []
  }
 ],
 "metadata": {
  "kernelspec": {
   "display_name": "Python 3",
   "language": "python",
   "name": "python3"
  },
  "language_info": {
   "codemirror_mode": {
    "name": "ipython",
    "version": 3
   },
   "file_extension": ".py",
   "mimetype": "text/x-python",
   "name": "python",
   "nbconvert_exporter": "python",
   "pygments_lexer": "ipython3",
   "version": "3.7.10"
  }
 },
 "nbformat": 4,
 "nbformat_minor": 5
}
