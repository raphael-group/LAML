{
 "cells": [
  {
   "cell_type": "code",
   "execution_count": 1,
   "id": "93efe2ba",
   "metadata": {},
   "outputs": [],
   "source": [
    "import numpy as np\n",
    "\n",
    "# test data\n",
    "t_A = '[&R] ((1:0.96,3:0.96):0.14,2:1.10,4:1.10);' # rooted\n",
    "t_B = '[&R] (1:1.167,2:1.167,3:1.167:4:1.167);'\n",
    "\n",
    "t_C = '[&R] ((1:0.5,2:0.5):0.60,(3:0.5,4:0.5):0.60);' # no branches\n",
    "t_test = '[&R] (1:0.96,3:0.96):0.14;' \n",
    "\n",
    "# species by 3-site matrix\n",
    "msa = np.array([[1,0,2], # species 1\n",
    "                 [1,0,0], # species 2\n",
    "                 [0,1,2], # species 3\n",
    "                 [0,1,0]] # species 4\n",
    "               )\n",
    "\n",
    "Q = [[0.2, 0.3, 0.5], # site 1\n",
    "     [0.2, 0.3, 0.5], # site 2\n",
    "     [0.2, 0.3, 0.5]  # site 3\n",
    "    ]"
   ]
  },
  {
   "cell_type": "code",
   "execution_count": 2,
   "id": "27fe4762",
   "metadata": {},
   "outputs": [],
   "source": [
    "# https://bio.libretexts.org/Bookshelves/Evolutionary_Developmental_Biology/Phylogenetic_Comparative_Methods_(Harmon)/08%3A_Fitting_Models_of_Discrete_Character_Evolution/8.07%3A_Appendix_-_Felsenstein's_Pruning_Algorithm\n",
    "# t = '((((1:1.0, 2:1.0):0.5, 3:1.5):1.0,((4:0.5, 5:0.5):2.0):0.5), 6:2.5);'\n",
    "# msa = np.array([[0], [1], [0], [2], [2], [1]])\n"
   ]
  },
  {
   "cell_type": "code",
   "execution_count": 4,
   "id": "3aef2624",
   "metadata": {},
   "outputs": [],
   "source": [
    "\n",
    "numsites = len(msa[0])\n",
    "lambda_site = dict()\n",
    "\n",
    "for site in range(numsites):\n",
    "    lambda_site[site] = np.unique(msa.T[site])\n",
    "    \n",
    "    \n",
    "char_probs = dict()\n",
    "for site in range(numsites):\n",
    "    char_probs[site] = dict()\n",
    "    chars, counts = np.unique(msa.T[site], return_counts=True)\n",
    "    for i in range(len(chars)):\n",
    "        char_probs[site][chars[i]] = counts[i]/len(msa.T[site])"
   ]
  },
  {
   "cell_type": "code",
   "execution_count": 5,
   "id": "3f67eed5",
   "metadata": {},
   "outputs": [
    {
     "name": "stdout",
     "output_type": "stream",
     "text": [
      "site: 0\n",
      "{0: 0.5, 1: 0.5}\n",
      "site: 1\n",
      "{0: 0.5, 1: 0.5}\n",
      "site: 2\n",
      "{0: 0.5, 1: 0.5}\n"
     ]
    }
   ],
   "source": [
    "for site in range(numsites):\n",
    "    print(\"site:\", site)\n",
    "    print(char_probs[0])"
   ]
  },
  {
   "cell_type": "code",
   "execution_count": 6,
   "id": "a6795709",
   "metadata": {},
   "outputs": [],
   "source": [
    "q_dict = dict()\n",
    "for site in range(numsites):\n",
    "    q_dict[site] = dict()\n",
    "    # get alphabet\n",
    "    for idx, char in enumerate(np.unique(msa.T[site])):\n",
    "        q_dict[site][char] = Q[site][idx]"
   ]
  },
  {
   "cell_type": "code",
   "execution_count": 7,
   "id": "cd22414f",
   "metadata": {},
   "outputs": [
    {
     "data": {
      "text/plain": [
       "{0: {0: 0.2, 1: 0.3}, 1: {0: 0.2, 1: 0.3}, 2: {0: 0.2, 2: 0.3}}"
      ]
     },
     "execution_count": 7,
     "metadata": {},
     "output_type": "execute_result"
    }
   ],
   "source": [
    "q_dict"
   ]
  },
  {
   "cell_type": "code",
   "execution_count": 454,
   "id": "ebb94714",
   "metadata": {},
   "outputs": [],
   "source": [
    "# nwkt.as_string(schema=\"newick\")\n",
    "# nwkt.as_ascii_plot()"
   ]
  },
  {
   "cell_type": "code",
   "execution_count": 8,
   "id": "6c514b5b",
   "metadata": {},
   "outputs": [],
   "source": [
    "def get_branchlen(child_node):\n",
    "    # print(\"getting branch length\", child_node.edge_length)\n",
    "    if child_node.edge_length is None:\n",
    "        print(child_node.child_nodes())\n",
    "    return child_node.edge_length"
   ]
  },
  {
   "cell_type": "code",
   "execution_count": 106,
   "id": "a6ae072f",
   "metadata": {},
   "outputs": [
    {
     "data": {
      "text/plain": [
       "1.2130613194252668"
      ]
     },
     "execution_count": 106,
     "metadata": {},
     "output_type": "execute_result"
    }
   ],
   "source": [
    "2 * (math.exp(-0.5) * 1.0)"
   ]
  },
  {
   "cell_type": "code",
   "execution_count": 99,
   "id": "5da3b033",
   "metadata": {},
   "outputs": [],
   "source": [
    "import math\n",
    "\n",
    "def prob_same(nodedict, node_likelihood, site, curr_node):\n",
    "    # print(\"prob_same\")\n",
    "    # prob of staying in 0 \n",
    "    all_child_prob = 1.0\n",
    "    # print(curr_node.child_nodes())\n",
    "    for c in curr_node.child_nodes():\n",
    "        char_state_prob = 0.0\n",
    "        for alpha in nodedict[c][site]:\n",
    "            print(\"PS: get_branchlen(c)\", c, get_branchlen(c))\n",
    "            tp = math.exp(-get_branchlen(c))\n",
    "            char_state_prob += tp * node_likelihood[c][site]\n",
    "        all_child_prob *= char_state_prob\n",
    "    return all_child_prob\n",
    "\n",
    "def prob_change(q_dict, nodedict, node_likelihood, site, curr_state, curr_node):\n",
    "    all_child_prob = 1.0\n",
    "    for c in curr_node.child_nodes():\n",
    "        char_state_prob = 0.0\n",
    "        for alpha in nodedict[c][site]:\n",
    "            q_ialpha = q_dict[site][alpha] \n",
    "            tp = q_ialpha * (1 - math.exp(get_branchlen(c)))\n",
    "            char_state_prob += tp * node_likelihood[c][site]\n",
    "        all_child_prob *= char_state_prob\n",
    "    print(\"PC: get_branchlen(c)\", c, all_child_prob)\n",
    "    return all_child_prob\n"
   ]
  },
  {
   "cell_type": "code",
   "execution_count": 100,
   "id": "ab9b1c06",
   "metadata": {},
   "outputs": [],
   "source": [
    "def likelihood_under_n(nodedict, node_likelihood, n, site):\n",
    "    # n is an internal node\n",
    "    child_states = set()\n",
    "        \n",
    "    if n not in nodedict:\n",
    "        nodedict[n] = dict()\n",
    "        nodedict[n][site] = dict()\n",
    "        \n",
    "    # identify all child states. \n",
    "    # this constrains n's possible states.\n",
    "    child_states = set()\n",
    "    for child in n.child_nodes():\n",
    "        if child.is_leaf():\n",
    "            child_states.add(get_char(msa, child, site))\n",
    "        else:\n",
    "            for x in nodedict[child][site]:\n",
    "                state_prob = nodedict[child][site][x]\n",
    "                if state_prob > 0.0:\n",
    "                    child_states.add(x)\n",
    "                    \n",
    "    parent_poss_states = dict()\n",
    "    if len(child_states) == 1:\n",
    "        if 0 in child_states: # probability 0 -> 0\n",
    "            parent_poss_states[0] = prob_same(nodedict, node_likelihood, site, n) \n",
    "        else:\n",
    "            for c in child_states: # probability c -> c != 0\n",
    "                parent_poss_states[c] = 1.0 \n",
    "            # probability 0 -> c (alpha)\n",
    "            parent_poss_states[0] = prob_change(q_dict, nodedict, node_likelihood, site, 0, n)  \n",
    "    else:\n",
    "        # probability 0 -> 1 and 0 -> 2 or\n",
    "        # probability 0 -> 0 and 0 -> 1 WLOG\n",
    "        parent_poss_states[0] = 1.0\n",
    "    for x in parent_poss_states.keys():\n",
    "        # save into nodedict\n",
    "        nodedict[n][site][x] = parent_poss_states[x]\n",
    "        # product over all possible states\n",
    "        node_likelihood[n][site] *= parent_poss_states[x]\n",
    "    \n",
    "    return nodedict, node_likelihood"
   ]
  },
  {
   "cell_type": "code",
   "execution_count": 101,
   "id": "3fd9b128",
   "metadata": {},
   "outputs": [],
   "source": [
    "def get_char(msa, leaf_node, site):\n",
    "    # print(leaf_node)\n",
    "    return msa[int(leaf_node.taxon.__str__().replace(\"'\", \"\"))-1][site]"
   ]
  },
  {
   "cell_type": "code",
   "execution_count": 102,
   "id": "628380e7",
   "metadata": {},
   "outputs": [],
   "source": [
    "# nodedict # node # site -> saves the probabilities of the possible states\n",
    "# node_likelihood # node # site"
   ]
  },
  {
   "cell_type": "code",
   "execution_count": 109,
   "id": "54da914a",
   "metadata": {
    "scrolled": false
   },
   "outputs": [
    {
     "name": "stdout",
     "output_type": "stream",
     "text": [
      "((1:0.5,2:0.5):0.6,(3:0.5,4:0.5):0.6)\n",
      "node: <Node object at 0x7fa9e83fbd10: 'None' (<Taxon 0x7fa9e83fb790 '1'>)>\n",
      "node: <Node object at 0x7fa9e7e71510: 'None' (<Taxon 0x7fa9e7e71490 '2'>)>\n",
      "node: <Node object at 0x7fa9e83fb390: 'None' (None)>\n",
      "site: 0\n",
      "PC: get_branchlen(c) <Node object at 0x7fa9e7e71510: 'None' (<Taxon 0x7fa9e7e71490 '2'>)> 0.03787553583529101\n",
      "site: 1\n",
      "PS: get_branchlen(c) <Node object at 0x7fa9e83fbd10: 'None' (<Taxon 0x7fa9e83fb790 '1'>)> 0.5\n",
      "PS: get_branchlen(c) <Node object at 0x7fa9e7e71510: 'None' (<Taxon 0x7fa9e7e71490 '2'>)> 0.5\n",
      "site: 2\n",
      "node: <Node object at 0x7fa9e7e66810: 'None' (<Taxon 0x7fa9e7f1be50 '3'>)>\n",
      "node: <Node object at 0x7fa9e7f1b0d0: 'None' (<Taxon 0x7fa9e7f1be90 '4'>)>\n",
      "node: <Node object at 0x7fa9e7e660d0: 'None' (None)>\n",
      "site: 0\n",
      "PS: get_branchlen(c) <Node object at 0x7fa9e7e66810: 'None' (<Taxon 0x7fa9e7f1be50 '3'>)> 0.5\n",
      "PS: get_branchlen(c) <Node object at 0x7fa9e7f1b0d0: 'None' (<Taxon 0x7fa9e7f1be90 '4'>)> 0.5\n",
      "site: 1\n",
      "PC: get_branchlen(c) <Node object at 0x7fa9e7f1b0d0: 'None' (<Taxon 0x7fa9e7f1be90 '4'>)> 0.03787553583529101\n",
      "site: 2\n",
      "node: <Node object at 0x7fa9e83fb210: 'None' (None)>\n",
      "site: 0\n",
      "site: 1\n",
      "site: 2\n",
      "PS: get_branchlen(c) <Node object at 0x7fa9e83fb390: 'None' (None)> 0.6\n",
      "PS: get_branchlen(c) <Node object at 0x7fa9e7e660d0: 'None' (None)> 0.6\n",
      "Root Node r*\n",
      "((1:0.5,2:0.5):0.6,(3:0.5,4:0.5):0.6)\n",
      "0.16529888822158656\n"
     ]
    }
   ],
   "source": [
    "import dendropy\n",
    "\n",
    "# we take in a rooted tree\n",
    "nwkt = dendropy.Tree.get(data=t_C, schema=\"newick\")\n",
    "print(nwkt)\n",
    "nodedict = dict() # maps node to possible states, with probabilities\n",
    "node_likelihood = dict() # maps node to likelihood of subtree under node\n",
    "\n",
    "for n in nwkt.postorder_node_iter():\n",
    "    print(\"node:\", n)\n",
    "    if n.taxon is not None: # must be a leaf node, set up \n",
    "        nodedict[n] = dict()\n",
    "        node_likelihood[n] = dict()\n",
    "        for site in range(numsites):\n",
    "            char_state = get_char(msa, n, site)\n",
    "            nodedict[n][site] = dict()\n",
    "            nodedict[n][site][char_state] = 1.0\n",
    "            node_likelihood[n][site] = 1.0\n",
    "        \n",
    "    elif n.taxon is None: # must be an internal node\n",
    "        for site in range(numsites):\n",
    "            print(\"site:\", site)\n",
    "            if n not in nodedict:\n",
    "                nodedict[n] = dict()\n",
    "                node_likelihood[n] = dict()\n",
    "            \n",
    "            nodedict[n][site] = dict()\n",
    "            node_likelihood[n][site] = 1.0\n",
    "            \n",
    "            nodedict, node_likelihood = likelihood_under_n(nodedict, node_likelihood, n, site)\n",
    "\n",
    "# last n is the root node \n",
    "\n",
    "print(\"Calculating likelihood according to a root node r*\")\n",
    "# SETTING UP r*, say r* -> r is dist 0.2\n",
    "root_edge_len = 0.2\n",
    "tree_likelihood = 1.0\n",
    "for site in range(numsites):\n",
    "    # under node_likelihood, calculate the prob    \n",
    "    for rootchar in nodedict[n][site].keys():\n",
    "        prob_rootchar = nodedict[n][site][x]\n",
    "        if prob_rootchar > 0.0: \n",
    "            if rootchar == 0:\n",
    "                tree_likelihood *= (math.exp(-root_edge_len)) * node_likelihood[n][site]\n",
    "            else:\n",
    "                q_ialpha = q_dict[site][rootchar]\n",
    "                tree_likelihood *= (1 - math.exp(-root_edge_len)) * q_ialpha * node_likelihood[n][site]\n",
    "\n",
    "print(nwkt)\n",
    "print(tree_likelihood)\n"
   ]
  },
  {
   "cell_type": "markdown",
   "id": "92e81271",
   "metadata": {},
   "source": [
    "nodedict: index with node, then site, then possible alphabet characters, mapped to the probability of taking on that character.\n",
    "node_likelihood: index with node, then site maps to probability."
   ]
  },
  {
   "cell_type": "code",
   "execution_count": 17,
   "id": "720b31d6",
   "metadata": {},
   "outputs": [],
   "source": [
    "t_A = 2.062468362106625e-05\n",
    "t_B = 0.001953125\n",
    "t_C = 8.236339393882161e-09"
   ]
  },
  {
   "cell_type": "code",
   "execution_count": 18,
   "id": "29faac0e",
   "metadata": {},
   "outputs": [
    {
     "data": {
      "text/plain": [
       "True"
      ]
     },
     "execution_count": 18,
     "metadata": {},
     "output_type": "execute_result"
    }
   ],
   "source": [
    "t_C < t_B"
   ]
  },
  {
   "cell_type": "code",
   "execution_count": 19,
   "id": "e46faf4b",
   "metadata": {},
   "outputs": [
    {
     "data": {
      "text/plain": [
       "True"
      ]
     },
     "execution_count": 19,
     "metadata": {},
     "output_type": "execute_result"
    }
   ],
   "source": [
    "t_A > t_C"
   ]
  },
  {
   "cell_type": "code",
   "execution_count": 20,
   "id": "127953af",
   "metadata": {},
   "outputs": [],
   "source": [
    "# ziheng yang - must always be less than f_max <= \n",
    "# as you increase the number of k, should converge, check paper... "
   ]
  },
  {
   "cell_type": "code",
   "execution_count": null,
   "id": "1bcf98a6",
   "metadata": {},
   "outputs": [],
   "source": [
    "# # make this into a function \n",
    "# def felsenstein(T, Q, msa): \n",
    "#     # tree w/ branch lengths as input\n",
    "#     # output a likelihood\n",
    "#     ##\n",
    "#     pass \n"
   ]
  },
  {
   "cell_type": "code",
   "execution_count": 18,
   "id": "42d64ae3",
   "metadata": {},
   "outputs": [],
   "source": [
    "import math\n",
    "\n",
    "p_0_to_1 = 0.3 * (1 - math.e**(-0.96))\n",
    "p_0_to_0 = math.e**(-0.96)\n",
    "p_0_to_2 = 0.5 * (1 - math.e**(-0.96))\n",
    "p_2_to_2 = 1.0"
   ]
  },
  {
   "cell_type": "code",
   "execution_count": 41,
   "id": "e3469ff8",
   "metadata": {},
   "outputs": [
    {
     "data": {
      "text/plain": [
       "0.18513213420746638"
      ]
     },
     "execution_count": 41,
     "metadata": {},
     "output_type": "execute_result"
    }
   ],
   "source": [
    "p_0_to_1"
   ]
  },
  {
   "cell_type": "code",
   "execution_count": 19,
   "id": "6a033bcc",
   "metadata": {},
   "outputs": [],
   "source": [
    "pos_1 = p_0_to_1 * p_0_to_0\n",
    "pos_2 = pos_1\n",
    "pos_3 = p_0_to_2 ** 2 "
   ]
  },
  {
   "cell_type": "code",
   "execution_count": 20,
   "id": "86ddbbe4",
   "metadata": {},
   "outputs": [
    {
     "data": {
      "text/plain": [
       "0.07088577715342857"
      ]
     },
     "execution_count": 20,
     "metadata": {},
     "output_type": "execute_result"
    }
   ],
   "source": [
    "pos_1"
   ]
  },
  {
   "cell_type": "code",
   "execution_count": 21,
   "id": "348ecaa4",
   "metadata": {},
   "outputs": [
    {
     "data": {
      "text/plain": [
       "0.09520529754503151"
      ]
     },
     "execution_count": 21,
     "metadata": {},
     "output_type": "execute_result"
    }
   ],
   "source": [
    "pos_3"
   ]
  },
  {
   "cell_type": "code",
   "execution_count": 38,
   "id": "e1889ec5",
   "metadata": {},
   "outputs": [
    {
     "data": {
      "text/plain": [
       "0.01232502682819553"
      ]
     },
     "execution_count": 38,
     "metadata": {},
     "output_type": "execute_result"
    }
   ],
   "source": [
    "a = 0.2 * math.e**(-0.14) * pos_1\n",
    "a"
   ]
  },
  {
   "cell_type": "code",
   "execution_count": 39,
   "id": "61e639e1",
   "metadata": {},
   "outputs": [
    {
     "data": {
      "text/plain": [
       "0.06532088230059707"
      ]
     },
     "execution_count": 39,
     "metadata": {},
     "output_type": "execute_result"
    }
   ],
   "source": [
    "c = 0.5 * (1 - math.e**(-0.14)) * 1.0\n",
    "c"
   ]
  },
  {
   "cell_type": "code",
   "execution_count": 40,
   "id": "150919f4",
   "metadata": {},
   "outputs": [
    {
     "data": {
      "text/plain": [
       "0.016553501894873375"
      ]
     },
     "execution_count": 40,
     "metadata": {},
     "output_type": "execute_result"
    }
   ],
   "source": [
    "b = 0.2 * math.e**(-0.14) * pos_3\n",
    "b"
   ]
  },
  {
   "cell_type": "code",
   "execution_count": 37,
   "id": "dd5f5603",
   "metadata": {},
   "outputs": [
    {
     "data": {
      "text/plain": [
       "1.6425464942989512e-07"
      ]
     },
     "execution_count": 37,
     "metadata": {},
     "output_type": "execute_result"
    }
   ],
   "source": [
    "a * a * b * c"
   ]
  },
  {
   "cell_type": "code",
   "execution_count": 36,
   "id": "bf8abbfe",
   "metadata": {},
   "outputs": [
    {
     "data": {
      "text/plain": [
       "0.06532088230059707"
      ]
     },
     "execution_count": 36,
     "metadata": {},
     "output_type": "execute_result"
    }
   ],
   "source": [
    "c"
   ]
  },
  {
   "cell_type": "code",
   "execution_count": null,
   "id": "785d3a5b",
   "metadata": {},
   "outputs": [],
   "source": [
    "Tree Likelihood: -14.621847872951003\n"
   ]
  }
 ],
 "metadata": {
  "kernelspec": {
   "display_name": "Python 3",
   "language": "python",
   "name": "python3"
  },
  "language_info": {
   "codemirror_mode": {
    "name": "ipython",
    "version": 3
   },
   "file_extension": ".py",
   "mimetype": "text/x-python",
   "name": "python",
   "nbconvert_exporter": "python",
   "pygments_lexer": "ipython3",
   "version": "3.7.10"
  }
 },
 "nbformat": 4,
 "nbformat_minor": 5
}
