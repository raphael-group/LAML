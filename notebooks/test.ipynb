{
 "cells": [
  {
   "cell_type": "code",
   "execution_count": 2,
   "id": "904ddbd0",
   "metadata": {},
   "outputs": [
    {
     "name": "stdout",
     "output_type": "stream",
     "text": [
      "q_dict [{0: 0.2, 1: 0.3, 2: 0.5}, {0: 0.2, 1: 0.3, 2: 0.5}, {0: 0.2, 1: 0.3, 2: 0.5}]\n",
      "(1:0.96,3:0.96)\n",
      "'1' 102\n",
      "'3' 012\n",
      "Hi.\n",
      "Hi.\n",
      "Hi.\n",
      "0 0.07088577715342857\n",
      "1 0.0\n",
      "2 0.0\n",
      "0 0.07088577715342857\n",
      "1 0.0\n",
      "2 0.0\n",
      "0 0.09520529754503151\n",
      "1 0.0\n",
      "2 1.0\n"
     ]
    },
    {
     "data": {
      "text/plain": [
       "2.053183117873688e-05"
      ]
     },
     "execution_count": 2,
     "metadata": {},
     "output_type": "execute_result"
    }
   ],
   "source": [
    "import sys\n",
    "import numpy as np\n",
    "\n",
    "sys.path.append(\"/Users/gillianchu/raphael/repos/problin/problin_libs\")\n",
    "from ml import felsenstein\n",
    "\n",
    "t = '[&R] (1:0.96,3:0.96);'\n",
    "msa = np.array([[1,0,2], # species 1\n",
    "                [1,0,0], # species 2\n",
    "                [0,1,2], # species 3\n",
    "                [0,1,0]] # species 4\n",
    "            )\n",
    "\n",
    "# prob of transitioning 0 -> 0, 0 -> 1, 0 -> 2\n",
    "q = [{0: 0.2, 1:0.3, 2:0.5}, # site 1\n",
    "     {0: 0.2, 1:0.3, 2:0.5}, # site 2\n",
    "     {0: 0.2, 1:0.3, 2:0.5}, # site 3\n",
    "    ]\n",
    "\n",
    "likelihood = felsenstein(t, q, msa, 0.14, use_log=False)\n",
    "likelihood"
   ]
  },
  {
   "cell_type": "code",
   "execution_count": null,
   "id": "7e0ef706",
   "metadata": {},
   "outputs": [],
   "source": []
  }
 ],
 "metadata": {
  "kernelspec": {
   "display_name": "Python 3",
   "language": "python",
   "name": "python3"
  },
  "language_info": {
   "codemirror_mode": {
    "name": "ipython",
    "version": 3
   },
   "file_extension": ".py",
   "mimetype": "text/x-python",
   "name": "python",
   "nbconvert_exporter": "python",
   "pygments_lexer": "ipython3",
   "version": "3.7.10"
  }
 },
 "nbformat": 4,
 "nbformat_minor": 5
}
