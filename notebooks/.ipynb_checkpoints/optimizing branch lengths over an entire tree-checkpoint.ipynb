{
 "cells": [
  {
   "cell_type": "code",
   "execution_count": 23,
   "id": "3f0020f6",
   "metadata": {},
   "outputs": [],
   "source": [
    "import numpy as np\n",
    "from scipy import optimize\n",
    "import math\n",
    "from math import log, exp"
   ]
  },
  {
   "cell_type": "code",
   "execution_count": null,
   "id": "3605fc60",
   "metadata": {},
   "outputs": [],
   "source": []
  },
  {
   "cell_type": "code",
   "execution_count": 27,
   "id": "9a59eaa3",
   "metadata": {},
   "outputs": [],
   "source": [
    "from sympy import var, Matrix"
   ]
  },
  {
   "cell_type": "code",
   "execution_count": 31,
   "id": "1a6b5819",
   "metadata": {},
   "outputs": [],
   "source": [
    "# var('a')\n",
    "# var('b')\n",
    "# var('r')\n",
    "# var('q')\n",
    "# var('S_3')\n",
    "# var('S_4')\n",
    "# var('S_5')\n",
    "# # arr = Matrix([[1, 0, 0],\n",
    "# #               [0, 1, 0],\n",
    "# #               [0, 0, 1]\n",
    "# #              ])\n",
    "\n",
    "# # arr.eigenvals()\n",
    "\n",
    "# arr = Matrix([[(-((exp(b) - 1)*q*((q-1)*exp(a+b) + exp(a+b+r) - exp(a)*q)))/((q-1)*exp(a+b) - q*exp(a) - q*exp(b) + q)**2 + (-(exp(a)*(S_3 + S_4))/(exp(a) - 1)**2) , (q*(exp(r)-1)*exp(a+b))/((q-1)*exp(a+b) + exp(a+b+r) - q*exp(b) - q*exp(b) + q)**2, (-(exp(b) - 1)*exp(a+b+r))/((q-1)*exp(a+b) + exp(a+b+r) - q*exp(a) - q*exp(b) + q)**2],\n",
    "#               [(q*(exp(r)-1)*exp(a+b))/((q-1)*exp(a+b) + exp(a+b+r) - q*exp(a) - q*exp(b) + q)**2 , (-(exp(a) - 1) * q * ((q-1)*exp(a+b) + exp(a+b+r) - exp(b) * q)) / ((q-1)*exp(a+b) + exp(a+b+r) - q*exp(a) - q*exp(b) + q)**2 - (exp(b) * (S_3 + S_5))/(exp(b) - 1)**2, (-(expa - 1)*q*exp(a+b+r))/((q-1)*exp(a+b) + exp(a+b+r) - q*exp(a) - q*exp(b) + q)**2],\n",
    "#               [(-(exp(b) - 1)*exp(a+b+r))/((q-1)*exp(a+b) + exp(a+b+r) - q*exp(a) - q*exp(b) + q)**2 , (-(exp(a) - 1)*q*exp(a+b+r))/((q-1)*exp(a+b) + exp(a+b+r) - q*exp(a) - q*exp(b) + q)**2, -((q-1)*(-exp(a+b)) + exp(a) * q + exp(b) * q - q) * exp(a+b+r)/((q-1)*(exp(a+b) + exp(a+b+r) - q*exp(a) - q*exp(b) + q))**2]\n",
    "#              ])\n",
    "# arr.eigenvals()"
   ]
  },
  {
   "cell_type": "code",
   "execution_count": null,
   "id": "956a9be4",
   "metadata": {},
   "outputs": [],
   "source": []
  },
  {
   "cell_type": "code",
   "execution_count": 24,
   "id": "17e3eec4",
   "metadata": {},
   "outputs": [],
   "source": [
    "# Optimize the branch lengths w/ marginal likelihood, using scipy.optimize\n",
    "k = 3\n",
    "\n",
    "def l(x):\n",
    "    d_a, d_b, d_r = x\n",
    "    print(\"d_a\", d_a, \"d_b\", d_b, \"d_r\", d_r)\n",
    "    q = 0.2\n",
    "    \n",
    "    k = 1000\n",
    "    s_1a = 100\n",
    "    s_1b = 100\n",
    "    s_0 = 600 \n",
    "    s_2 = 100 \n",
    "    s_3 = 100\n",
    "    \n",
    "    p1 = -(s_1b + s_0) * d_a + (s_1a + s_3) * np.log(1 - math.exp(-d_a))\n",
    "    p2 = -(s_1a + s_0) * d_b + (s_1b + s_3) * np.log(1 - math.exp(-d_b)) - (k - s_2) * d_r\n",
    "    p3 = 0.0\n",
    "    \n",
    "    for i in range(s_2):\n",
    "        p3 += np.log(q**2 * (1 - math.exp(-d_a)) * (1 - math.exp(-d_b)) * math.exp(-d_r) + q*(1 - math.exp(-d_r)))\n",
    "    \n",
    "    print(p1, p2, p3, \"sum\", p1+p2+p3)\n",
    "    return p1 + p2 + p3\n"
   ]
  },
  {
   "cell_type": "code",
   "execution_count": null,
   "id": "c575bdee",
   "metadata": {},
   "outputs": [],
   "source": [
    "def fun_hess():\n",
    "    pass\n"
   ]
  },
  {
   "cell_type": "code",
   "execution_count": 26,
   "id": "d67b52f0",
   "metadata": {},
   "outputs": [
    {
     "name": "stdout",
     "output_type": "stream",
     "text": [
      "d_a 0.20273255405408214 d_b 0.20273255405408214 d_r 0.3\n",
      "-481.01718366078626 -751.0171836607863 -294.05966899155175 sum -1526.0940363131242\n",
      "d_a 0.20273256895524333 d_b 0.20273255405408214 d_r 0.3\n",
      "-481.0171808310869 -751.0171836607863 -294.0596688663314 sum -1526.0940333582043\n",
      "d_a 0.20273255405408214 d_b 0.20273256895524333 d_r 0.3\n",
      "-481.01718366078626 -751.0171808310869 -294.0596688663314 sum -1526.0940333582043\n",
      "d_a 0.20273255405408214 d_b 0.20273255405408214 d_r 0.3000000149011612\n",
      "-481.01718366078626 -751.0171970718313 -294.0596648409416 sum -1526.0940455735592\n",
      "d_a 0.2027325589370455 d_b 0.2027325589227778 d_r 2.197224562122801\n",
      "-481.0171827335216 -2458.519288646752 -172.63794664675348 sum -3112.174418027027\n"
     ]
    },
    {
     "data": {
      "text/plain": [
       "     fun: -3112.174418027027\n",
       "     jac: array([ 198.30131531,  198.30131531, -621.45727539])\n",
       " message: 'Optimization terminated successfully'\n",
       "    nfev: 5\n",
       "     nit: 1\n",
       "    njev: 1\n",
       "  status: 0\n",
       " success: True\n",
       "       x: array([0.20273256, 0.20273256, 2.19722456])"
      ]
     },
     "execution_count": 26,
     "metadata": {},
     "output_type": "execute_result"
    }
   ],
   "source": [
    "dmax = -log(1/k)*2\n",
    "dmin = -log(1-1/k)/2\n",
    "bound = (dmin,dmax)\n",
    "scipy.optimize.minimize(l, [0.1, 0.2, 0.3], hess=fun_hess, method=\"SLSQP\", tol=1e2, options={'disp': False}, bounds=[bound, bound, bound])"
   ]
  },
  {
   "cell_type": "code",
   "execution_count": null,
   "id": "16d39c28",
   "metadata": {},
   "outputs": [],
   "source": []
  },
  {
   "cell_type": "code",
   "execution_count": null,
   "id": "d655bf61",
   "metadata": {},
   "outputs": [],
   "source": []
  }
 ],
 "metadata": {
  "kernelspec": {
   "display_name": "Python 3",
   "language": "python",
   "name": "python3"
  },
  "language_info": {
   "codemirror_mode": {
    "name": "ipython",
    "version": 3
   },
   "file_extension": ".py",
   "mimetype": "text/x-python",
   "name": "python",
   "nbconvert_exporter": "python",
   "pygments_lexer": "ipython3",
   "version": "3.7.10"
  }
 },
 "nbformat": 4,
 "nbformat_minor": 5
}
