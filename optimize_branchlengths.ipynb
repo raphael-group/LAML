{
 "cells": [
  {
   "cell_type": "code",
   "execution_count": 2,
   "id": "fd0f3711",
   "metadata": {},
   "outputs": [],
   "source": [
    "# given a topology and msa, optimize the branch lengths\n",
    "# then calculate the likelihood"
   ]
  },
  {
   "cell_type": "code",
   "execution_count": 79,
   "id": "0cabfc02",
   "metadata": {},
   "outputs": [],
   "source": [
    "import numpy as np\n",
    "\n",
    "# test data\n",
    "t_C = '[&R] ((1,2),(3,4));' # no branches\n",
    "# t_C = '[&R] ((1,2), 3);'\n",
    "# species by 3-site matrix\n",
    "msa = np.array([[1,0,2], # species 1\n",
    "                 [1,0,0], # species 2\n",
    "                 [0,1,2], # species 3\n",
    "                 [0,1,0]] # species 4\n",
    "               )"
   ]
  },
  {
   "cell_type": "code",
   "execution_count": 139,
   "id": "ed769b91",
   "metadata": {},
   "outputs": [],
   "source": [
    "seq_dict = dict()\n",
    "seq_dict[1] = [1, 0, 2]\n",
    "seq_dict[2] = [1, 0, 0]\n",
    "seq_dict[3] = [0, 1, 2]\n",
    "seq_dict[4] = [0, 1, 0]"
   ]
  },
  {
   "cell_type": "code",
   "execution_count": 81,
   "id": "446ef722",
   "metadata": {},
   "outputs": [],
   "source": [
    "# estimate distance matrix first\n",
    "distmat = dict()\n",
    "for a in seq_dict.keys():\n",
    "    for b in seq_dict.keys():\n",
    "        distmat[(a, b)] = sum(est_d(seq_dict, a, b))"
   ]
  },
  {
   "cell_type": "code",
   "execution_count": 171,
   "id": "4e721f77",
   "metadata": {},
   "outputs": [],
   "source": [
    "# estimate the length of r -> r* for each internal node r"
   ]
  },
  {
   "cell_type": "code",
   "execution_count": 129,
   "id": "a3e57435",
   "metadata": {},
   "outputs": [],
   "source": [
    "def sets(seq_dict, a, b):\n",
    "    # get the msa\n",
    "    seq_a = np.array(seq_dict[a])\n",
    "    seq_b = np.array(seq_dict[b])\n",
    "    \n",
    "    k = len(seq_a)\n",
    "    \n",
    "    ## calculate the sets  \n",
    "    s_0, s_1a, s_1b, s_2, s3 = set(), set(), set(), set(), set()\n",
    "    for idx in range(seq_a):\n",
    "        c_a, c_b = seq_a[idx], seq_b[idx]\n",
    "        if c_a == c_b:\n",
    "            if c_a == 0:\n",
    "                s_0.add(idx)\n",
    "            else:\n",
    "                s_2.add(idx)\n",
    "        elif c_a == 0: # then c_b != 0\n",
    "            s_1b.add(idx)\n",
    "        elif c_b == 0: # then c_a != 0\n",
    "            s_1a.add(idx)\n",
    "        else:\n",
    "            s_3.add(idx)\n",
    "    \n",
    "    assert len(s_0) + len(s_1a) + len(s_1b) + len(s_2) + len(s3) == k\n",
    "    \n",
    "    sets = dict()\n",
    "    sets['s_0'] = s_0\n",
    "    sets['s_1a'] = s_1a\n",
    "    sets['s_1b'] = s_1b\n",
    "    sets['s_2'] = s_2\n",
    "    sets['s_3'] = s_3\n",
    "    \n",
    "    return sets\n"
   ]
  },
  {
   "cell_type": "code",
   "execution_count": 131,
   "id": "7afbd1b3",
   "metadata": {},
   "outputs": [],
   "source": [
    "def get_taxon_name(node):\n",
    "    return int(node.taxon.__str__().replace(\"'\", \"\"))"
   ]
  },
  {
   "cell_type": "code",
   "execution_count": 158,
   "id": "250c7870",
   "metadata": {},
   "outputs": [],
   "source": [
    "def est_d(seq_a, seq_b):\n",
    "#     if type(a) == int:\n",
    "#         seq_a, seq_b = seq_dict[a], seq_dict[b]\n",
    "#     else:\n",
    "#         a_name = get_taxon_name(a)\n",
    "#         b_name = get_taxon_name(b)\n",
    "#         seq_a, seq_b = seq_dict[a_name], seq_dict[b_name]\n",
    "    \n",
    "    # leaf nodes a and b\n",
    "    Z_a = seq_a.count(0)\n",
    "    Z_b = seq_b.count(0)\n",
    "    Z_ab = set()\n",
    "    \n",
    "    for i in range(len(seq_a)):\n",
    "        a_i, b_i = seq_a[i], seq_b[i]\n",
    "        if a_i == 0:\n",
    "            Z_ab.add(i)\n",
    "        if b_i == 0:\n",
    "            Z_ab.add(i)\n",
    "        if a_i != b_i and a_i != 0 and b_i != 0:\n",
    "            Z_ab.add(i)\n",
    "    Z_ab = len(Z_ab)\n",
    "    \n",
    "    d_a = - np.log(Z_a/Z_ab)\n",
    "    d_b = - np.log(Z_b/Z_ab)\n",
    "    \n",
    "    if d_a == -0.0:\n",
    "        d_a = 0.0\n",
    "    if d_b == -0.0:\n",
    "        d_b = 0.0\n",
    "        \n",
    "    return d_a, d_b"
   ]
  },
  {
   "cell_type": "code",
   "execution_count": 155,
   "id": "a55930e4",
   "metadata": {},
   "outputs": [],
   "source": [
    "# q_ialpha\n",
    "def transition(alpha, site, numsites):\n",
    "    # transition rate 0 -> char alpha at site i\n",
    "    lambda_ialpha = np.sum(msa.T[site] == alpha) / len(msa.T[site])\n",
    "    lambda_all = np.sum(msa.T[site] != 0) / len(msa.T[site])\n",
    "    return lambda_ialpha / lambda_all"
   ]
  },
  {
   "cell_type": "code",
   "execution_count": 166,
   "id": "1853583f",
   "metadata": {},
   "outputs": [],
   "source": [
    "def parsimonious(seq_a, seq_b): \n",
    "    # get the most parsimonious ancestral sequence to explain both these children\n",
    "    k = len(seq_a)\n",
    "    anc_seq = []\n",
    "    for idx in range(k):\n",
    "        c_a = seq_a[idx]\n",
    "        c_b = seq_b[idx]\n",
    "        \n",
    "        if c_a == c_b: # (0, 0) or (1, 1)\n",
    "            anc_seq.append(c_a)\n",
    "        elif c_a == 0 or c_b == 0: # (0, 1) or (1, 0)\n",
    "            anc_seq.append(0)\n",
    "        elif c_a != c_b: # (1, 2)\n",
    "            anc_seq.append(0)\n",
    "    return anc_seq\n",
    "        "
   ]
  },
  {
   "cell_type": "code",
   "execution_count": 170,
   "id": "84ada144",
   "metadata": {},
   "outputs": [
    {
     "name": "stdout",
     "output_type": "stream",
     "text": [
      "((1,2),(3,4))\n",
      "0.6931471805599453\n",
      "0.0\n",
      "0.40546510810816444\n",
      "0.6931471805599453\n",
      "0.0\n",
      "0.40546510810816444\n",
      "None\n"
     ]
    }
   ],
   "source": [
    "# fill in the parsimony ancestral sequences and then estimate each branch length\n",
    "import dendropy\n",
    "import itertools\n",
    "\n",
    "# assume binary tree!\n",
    "nwkt = dendropy.Tree.get(data=t_C, schema=\"newick\")\n",
    "print(nwkt)\n",
    "# fill in the edges that I know so far\n",
    "for n in nwkt.postorder_node_iter():\n",
    "    if n.is_internal():\n",
    "        a, b = n.child_nodes()\n",
    "        if a.is_leaf() and b.is_leaf():\n",
    "            taxon_a = get_taxon_name(a)\n",
    "            taxon_b = get_taxon_name(b)\n",
    "            seq_a = seq_dict[taxon_a]\n",
    "            seq_b = seq_dict[taxon_b]\n",
    "        \n",
    "            e_left, e_right = est_d(seq_a, seq_b)\n",
    "            a.edge.length = e_left\n",
    "            b.edge.length = e_right\n",
    "            \n",
    "            a.label = seq_a\n",
    "            b.label = seq_b\n",
    "            n.label = parsimonious(seq_a, seq_b)\n",
    "            \n",
    "        elif a.is_leaf(): \n",
    "            # get b's parsimonious sequence\n",
    "            e_left, e_right = est_d(seq_dict[a], b.label)\n",
    "            a.edge.length = e_left\n",
    "            b.edge.length = e_right\n",
    "            \n",
    "            a.label = seq_a\n",
    "            b.label = b.label\n",
    "            n.label = parsimonious(seq_a, b.label)\n",
    "            \n",
    "        elif b.is_leaf():\n",
    "            # print(\"a is internal, b is leaf\")\n",
    "            e_left, e_right = est_d(a.label, b)\n",
    "            a.edge.length = e_left\n",
    "            b.edge.length = e_right\n",
    "            \n",
    "            a.label = a.label\n",
    "            b.label = seq_b\n",
    "            n.label = parsimonious(a.label, seq_b)\n",
    "            \n",
    "        else: # both internal\n",
    "            e_left, e_right = est_d(a.label, b.label)\n",
    "            a.edge.length = e_left\n",
    "            b.edge.length = e_right\n",
    "            \n",
    "            a.label = a.label\n",
    "            b.label = b.label\n",
    "            n.label = parsimonious(a.label, b.label)\n",
    "\n",
    "e0 = []\n",
    "for e in nwkt.postorder_edge_iter():\n",
    "    e0.add(e.length)\n"
   ]
  },
  {
   "cell_type": "code",
   "execution_count": 172,
   "id": "fc92ec5f",
   "metadata": {},
   "outputs": [
    {
     "data": {
      "text/plain": [
       "<function __main__.sets(seq_dict, a, b)>"
      ]
     },
     "execution_count": 172,
     "metadata": {},
     "output_type": "execute_result"
    }
   ],
   "source": [
    "sets"
   ]
  },
  {
   "cell_type": "code",
   "execution_count": null,
   "id": "9cedb39d",
   "metadata": {},
   "outputs": [],
   "source": [
    "# Optimize the branch lengths w/ marginal likelihood, using scipy.optimize\n",
    "k = 3\n",
    "\n",
    "def likelihood(k, d_a, d_b, d_r, sets, q_ialpha=0.2): \n",
    "    s_0 = len(sets['s_0'])\n",
    "    s_1a = len(sets['s_1a'])\n",
    "    s_1b = len(sets['s_1b'])\n",
    "    s_2 = len(sets['s_2'])\n",
    "    s_3 = len(sets['s_3'])\n",
    "    \n",
    "    p1 = -(s_1b + s_0) * d_a + (s_1a + s_3) * np.log(1 - math.exp(-d_a))\n",
    "    p2 = -(s_1a + s_0) * d_b + (s_1b + s_3) * np.log(1 - math.exp(-d_b)) - (k - s_2) * d_r\n",
    "    p3 = 0.0\n",
    "    \n",
    "    for i in range(s_2):\n",
    "        # q_ialpha is the transition rate at site i from 0 -> character at node a at site i\n",
    "        # iterate over sites in s_2\n",
    "        p3 += np.log(q_ialpha^2 * (1 - math.exp(-d_a)) * (1 - math.exp(-d_b)) * math.exp(-d_r) + q_ialpha*(1 - math.exp(-d_r)))\n",
    "    \n",
    "    return p1 + p2 + p3\n"
   ]
  },
  {
   "cell_type": "code",
   "execution_count": 173,
   "id": "2097f56e",
   "metadata": {},
   "outputs": [
    {
     "ename": "NameError",
     "evalue": "name 'e0' is not defined",
     "output_type": "error",
     "traceback": [
      "\u001b[0;31m---------------------------------------------------------------------------\u001b[0m",
      "\u001b[0;31mNameError\u001b[0m                                 Traceback (most recent call last)",
      "\u001b[0;32m<ipython-input-173-d0fc59cccf76>\u001b[0m in \u001b[0;36m<module>\u001b[0;34m\u001b[0m\n\u001b[0;32m----> 1\u001b[0;31m \u001b[0mscipy\u001b[0m\u001b[0;34m.\u001b[0m\u001b[0moptimize\u001b[0m\u001b[0;34m.\u001b[0m\u001b[0mminimize\u001b[0m\u001b[0;34m(\u001b[0m\u001b[0mlikelihood\u001b[0m\u001b[0;34m,\u001b[0m \u001b[0me0\u001b[0m\u001b[0;34m,\u001b[0m \u001b[0mmethod\u001b[0m\u001b[0;34m=\u001b[0m\u001b[0;34m\"SLSQP\"\u001b[0m\u001b[0;34m,\u001b[0m \u001b[0mtol\u001b[0m\u001b[0;34m=\u001b[0m\u001b[0;36m1e2\u001b[0m\u001b[0;34m,\u001b[0m \u001b[0moptions\u001b[0m\u001b[0;34m=\u001b[0m\u001b[0;34m{\u001b[0m\u001b[0;34m'disp'\u001b[0m\u001b[0;34m:\u001b[0m \u001b[0;32mTrue\u001b[0m\u001b[0;34m}\u001b[0m\u001b[0;34m,\u001b[0m \u001b[0mconstraints\u001b[0m\u001b[0;34m=\u001b[0m\u001b[0mcons\u001b[0m \u001b[0;34m)\u001b[0m\u001b[0;34m\u001b[0m\u001b[0;34m\u001b[0m\u001b[0m\n\u001b[0m",
      "\u001b[0;31mNameError\u001b[0m: name 'e0' is not defined"
     ]
    }
   ],
   "source": [
    "scipy.optimize.minimize(likelihood, e0, method=\"SLSQP\", tol=1e2, options={'disp': True}, constraints=cons )\n"
   ]
  },
  {
   "cell_type": "code",
   "execution_count": null,
   "id": "f4543615",
   "metadata": {},
   "outputs": [],
   "source": []
  },
  {
   "cell_type": "code",
   "execution_count": null,
   "id": "3dc79ef4",
   "metadata": {},
   "outputs": [],
   "source": []
  },
  {
   "cell_type": "code",
   "execution_count": null,
   "id": "1ce00291",
   "metadata": {},
   "outputs": [],
   "source": [
    "# # Optimize the branch lengths w/ marginal likelihood, using scipy.optimize\n",
    "\n",
    "# def likelihood(k, d_a, d_b, d_r, sets, q_ialpha=0.2): \n",
    "#     s_0 = len(sets['s_0'])\n",
    "#     s_1a = len(sets['s_1a'])\n",
    "#     s_1b = len(sets['s_1b'])\n",
    "#     s_2 = len(sets['s_2'])\n",
    "#     s_3 = len(sets['s_3'])\n",
    "    \n",
    "#     p1 = -(s_1b + s_0) * d_a + (s_1a + s_3) * np.log(1 - math.exp(-d_a))\n",
    "#     p2 = -(s_1a + s_0) * d_b + (s_1b + s_3) * np.log(1 - math.exp(-d_b)) - (k - s_2) * d_r\n",
    "#     p3 = 0.0\n",
    "    \n",
    "#     for i in range(s_2):\n",
    "#         # q_ialpha is the transition rate at site i from 0 -> character at node a at site i\n",
    "#         # iterate over sites in s_2\n",
    "#         p3 += np.log(q_ialpha^2 * (1 - math.exp(-d_a)) * (1 - math.exp(-d_b)) * math.exp(-d_r) + q_ialpha*(1 - math.exp(-d_r)))\n",
    "    \n",
    "#     return p1 + p2 + p3\n"
   ]
  },
  {
   "cell_type": "code",
   "execution_count": 152,
   "id": "38ddb9d3",
   "metadata": {
    "scrolled": true
   },
   "outputs": [],
   "source": [
    "# # let's just iterate over all the internal branches one at a time first\n",
    "# import dendropy\n",
    "# import itertools\n",
    "\n",
    "# # assume binary tree!\n",
    "# nwkt = dendropy.Tree.get(data=t_C, schema=\"newick\")\n",
    "# print(nwkt)\n",
    "# # fill in the edges that I know so far\n",
    "# for n in nwkt.postorder_node_iter():\n",
    "#     # print(n)\n",
    "#     if n.is_internal():\n",
    "#         a, b = n.child_nodes()\n",
    "#         if a.is_leaf() and b.is_leaf():\n",
    "#             e_left, e_right = est_d(seq_dict, a, b)\n",
    "#             a.edge.length = e_left\n",
    "#             b.edge.length = e_right\n",
    "#         elif a.is_leaf(): # b is internal\n",
    "#             e_left, e_right = est_d(seq_dict, a, b.leaf_nodes()[0])\n",
    "#             # print(\"a is leaf, b is internal\")\n",
    "#             a.edge.length = e_left\n",
    "#             b.edge.length = e_right - b.leaf_nodes()[0].edge.length\n",
    "#         elif b.is_leaf():\n",
    "#             # print(\"a is internal, b is leaf\")\n",
    "#             e_left, e_right = est_d(seq_dict, a.leaf_nodes()[0], b)\n",
    "#             a.edge.length = e_left - a.leaf_nodes()[0].edge.length\n",
    "#             b.edge.length = e_right\n",
    "#         else: # both internal\n",
    "#             a1, a2 = a.child_nodes()\n",
    "#             b1, b2 = b.child_nodes()\n",
    "            \n",
    "#             a1_b1 = sum(est_d(seq_dict, a1, b1))\n",
    "#             a2_b2 = sum(est_d(seq_dict, a2, b2))\n",
    "#             a1_a2 = sum(est_d(seq_dict, a1, a2))\n",
    "#             b1_b2 = sum(est_d(seq_dict, b1, b2))\n",
    "            \n",
    "#             internal_edge = (a1_b1 + a2_b2 - a1_a2 - b1_b2)/(2*2) # root at half the internal edge\n",
    "#             a.edge.length = internal_edge\n",
    "#             b.edge.length = internal_edge\n",
    "# print(nwkt)\n",
    "\n",
    "# # how does iqtree, raxml or fasttree know when to stop opt branch lengths?\n",
    "# # do they calculate the tree likelihood?\n"
   ]
  },
  {
   "cell_type": "code",
   "execution_count": null,
   "id": "94f4a886",
   "metadata": {},
   "outputs": [],
   "source": []
  },
  {
   "cell_type": "code",
   "execution_count": 126,
   "id": "bd34f561",
   "metadata": {},
   "outputs": [
    {
     "name": "stdout",
     "output_type": "stream",
     "text": [
      "d_a 0.05 d_b 0.05 d_r 0.001\n",
      "-639.1256218114754 -640.0256218114754 -812.8712507171285 sum -2092.0224943400794\n",
      "d_a 0.0500000149011612 d_b 0.05 d_r 0.001\n",
      "-639.1255741153515 -640.0256218114754 -812.8712413513507 sum -2092.0224372781777\n",
      "d_a 0.05 d_b 0.0500000149011612 d_r 0.001\n",
      "-639.1256218114754 -640.0255741153514 -812.8712413513507 sum -2092.0224372781777\n",
      "d_a 0.05 d_b 0.05 d_r 0.0010000149011611939\n",
      "-639.1256218114754 -640.0256352225205 -812.8702417849817 sum -2092.0214988189778\n",
      "Optimization terminated successfully    (Exit mode 0)\n",
      "            Current function value: -2092.0224943400794\n",
      "            Iterations: 5\n",
      "            Function evaluations: 4\n",
      "            Gradient evaluations: 1\n"
     ]
    }
   ],
   "source": [
    "# now let's optimize the branches\n",
    "import math\n",
    "from scipy import optimize\n",
    "\n",
    "def l(x):\n",
    "    d_a, d_b, d_r = x\n",
    "    print(\"d_a\", d_a, \"d_b\", d_b, \"d_r\", d_r)\n",
    "    q = 0.2\n",
    "    \n",
    "    k = 1000\n",
    "    s_1a = 100\n",
    "    s_1b = 100\n",
    "    s_0 = 600 \n",
    "    s_2 = 100 \n",
    "    s_3 = 100\n",
    "    \n",
    "    p1 = -(s_1b + s_0) * d_a + (s_1a + s_3) * np.log(1 - math.exp(-d_a))\n",
    "    p2 = -(s_1a + s_0) * d_b + (s_1b + s_3) * np.log(1 - math.exp(-d_b)) - (k - s_2) * d_r\n",
    "    p3 = 0.0\n",
    "    \n",
    "    for i in range(s_2):\n",
    "        p3 += np.log(q**2 * (1 - math.exp(-d_a)) * (1 - math.exp(-d_b)) * math.exp(-d_r) + q*(1 - math.exp(-d_r)))\n",
    "    \n",
    "    print(p1, p2, p3, \"sum\", p1+p2+p3)\n",
    "    return p1 + p2 + p3\n",
    "\n",
    "def con(t):\n",
    "    return t\n",
    "\n",
    "cons = [{'type': 'ineq', 'fun': con}]\n",
    "# for e in nwkt.postorder_edge_iter():\n",
    "x0 = (0.05,0.05,0.001) # [k, d_a, d_b, d_r, sets, q_ialpha]\n",
    "a = scipy.optimize.minimize(l, x0, method=\"SLSQP\", tol=1e2, options={'disp': True}, constraints=cons )"
   ]
  },
  {
   "cell_type": "code",
   "execution_count": 127,
   "id": "11f99e0f",
   "metadata": {},
   "outputs": [
    {
     "data": {
      "text/plain": [
       "     fun: -2092.0224943400794\n",
       "     jac: array([ 3829.35940552,  3829.35940552, 66808.29022217])\n",
       " message: 'Optimization terminated successfully'\n",
       "    nfev: 4\n",
       "     nit: 5\n",
       "    njev: 1\n",
       "  status: 0\n",
       " success: True\n",
       "       x: array([0.05 , 0.05 , 0.001])"
      ]
     },
     "execution_count": 127,
     "metadata": {},
     "output_type": "execute_result"
    }
   ],
   "source": [
    "a"
   ]
  },
  {
   "cell_type": "code",
   "execution_count": 101,
   "id": "11e368f8",
   "metadata": {},
   "outputs": [],
   "source": [
    "# SLSQP - \n",
    "\n",
    "# put the whole felsenstein's in, colalpse the vector \n",
    "# write the function for three "
   ]
  },
  {
   "cell_type": "code",
   "execution_count": 114,
   "id": "1860a0e7",
   "metadata": {},
   "outputs": [
    {
     "data": {
      "text/plain": [
       "0.048770575499285984"
      ]
     },
     "execution_count": 114,
     "metadata": {},
     "output_type": "execute_result"
    }
   ],
   "source": [
    "1 - math.exp()"
   ]
  },
  {
   "cell_type": "code",
   "execution_count": 122,
   "id": "3330b1ac",
   "metadata": {},
   "outputs": [
    {
     "name": "stderr",
     "output_type": "stream",
     "text": [
      "/Users/gillianchu/anaconda3/lib/python3.7/site-packages/ipykernel_launcher.py:1: RuntimeWarning: invalid value encountered in log\n",
      "  \"\"\"Entry point for launching an IPython kernel.\n"
     ]
    },
    {
     "data": {
      "text/plain": [
       "nan"
      ]
     },
     "execution_count": 122,
     "metadata": {},
     "output_type": "execute_result"
    }
   ],
   "source": [
    "np.log(1 - math.exp(0.05))"
   ]
  },
  {
   "cell_type": "code",
   "execution_count": 123,
   "id": "43ac36e1",
   "metadata": {},
   "outputs": [
    {
     "data": {
      "text/plain": [
       "-0.05127109637602412"
      ]
     },
     "execution_count": 123,
     "metadata": {},
     "output_type": "execute_result"
    }
   ],
   "source": [
    "1 - math.exp(0.05)"
   ]
  },
  {
   "cell_type": "code",
   "execution_count": null,
   "id": "558f0b16",
   "metadata": {},
   "outputs": [],
   "source": []
  }
 ],
 "metadata": {
  "kernelspec": {
   "display_name": "Python 3",
   "language": "python",
   "name": "python3"
  },
  "language_info": {
   "codemirror_mode": {
    "name": "ipython",
    "version": 3
   },
   "file_extension": ".py",
   "mimetype": "text/x-python",
   "name": "python",
   "nbconvert_exporter": "python",
   "pygments_lexer": "ipython3",
   "version": "3.7.10"
  }
 },
 "nbformat": 4,
 "nbformat_minor": 5
}
